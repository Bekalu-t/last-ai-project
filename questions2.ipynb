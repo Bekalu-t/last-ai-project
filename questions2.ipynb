{
 "cells": [
  {
   "cell_type": "markdown",
   "metadata": {},
   "source": [
    "# 1. BFS and DFS for Travelling in Ethiopia Problem"
   ]
  },
  {
   "cell_type": "markdown",
   "metadata": {},
   "source": [
    "1.1 Converting State space graph for traveling in Ethiopia search problem into manageable data structure"
   ]
  },
  {
   "cell_type": "code",
   "execution_count": 1,
   "metadata": {
    "vscode": {
     "languageId": "plaintext"
    }
   },
   "outputs": [
    {
     "name": "stdout",
     "output_type": "stream",
     "text": [
      "Addis Ababa -> Ambo -> Wolkite -> Jimma -> Bonga -> Mizan Teferi\n"
     ]
    }
   ],
   "source": [
    "from collections import deque\n",
    "infinity = float('inf')\n",
    "\n",
    "class Graph:\n",
    "    def __init__(self, graph_dict=None, directed=True):\n",
    "        self.graph_dict = graph_dict or {}\n",
    "        self.directed = directed\n",
    "\n",
    "    def nodes(self):\n",
    "        return list(self.graph_dict.keys())\n",
    "\n",
    "    def get(self, a, b=None):\n",
    "        links = self.graph_dict.get(a)\n",
    "        if b is None:\n",
    "            return links\n",
    "\n",
    "class Problem:\n",
    "    def __init__(self, initial, goal=None):\n",
    "        self.initial = initial\n",
    "        self.goal = goal\n",
    "\n",
    "    def goal_test(self, state):\n",
    "        return state == self.goal\n",
    "\n",
    "    def actions(self, state):\n",
    "        raise NotImplementedError\n",
    "\n",
    "    def result(self, state, action):\n",
    "        raise NotImplementedError\n",
    "\n",
    "    def value(self, state):\n",
    "        raise NotImplementedError\n",
    "\n",
    "\n",
    "class GraphProblem(Problem):\n",
    "    def __init__(self, initial, goal, graph):\n",
    "        Problem.__init__(self, initial, goal)\n",
    "        self.graph = graph\n",
    "\n",
    "    def actions(self, A):\n",
    "        return self.graph.get(A)\n",
    "\n",
    "    def result(self, state, action):\n",
    "        return action\n",
    "\n",
    "class Node:\n",
    "    def __init__(self, state, parent=None, action=None):\n",
    "        self.state = state\n",
    "        self.parent = parent\n",
    "        self.action = action\n",
    "        self.depth = 0\n",
    "        if parent:\n",
    "            self.depth = parent.depth + 1\n",
    "\n",
    "    def __repr__(self):\n",
    "        return \"<Node \" + self.state + \">\"\n",
    "\n",
    "    def expand(self, problem):\n",
    "        children = []\n",
    "        for action in problem.actions(self.state):\n",
    "            x = self.child_node(problem, action)\n",
    "            children.append(x)\n",
    "        return children\n",
    "\n",
    "    def child_node(self, problem, action):\n",
    "        next_state = problem.result(self.state, action)\n",
    "        next_node = Node(next_state, self, action)\n",
    "        return next_node\n",
    "\n",
    "    def path(self):\n",
    "        node, path_back = self, []\n",
    "        while node:\n",
    "            path_back.append(node)\n",
    "            node = node.parent\n",
    "        return list(reversed(path_back))\n",
    "\n",
    "    def solution(self):\n",
    "        return [node.state for node in self.path()]\n",
    "\n",
    "visit_ethiopia = Graph({\n",
    "    'Addis Ababa': {'Adama', 'Ambo', 'Debre Berhan'},\n",
    "    'Adama': {'Matahara', 'Asella', 'Batu', 'Addis Ababa'},\n",
    "    'Ambo': {'Wolkite', 'Addis Ababa', 'Nekemte'},\n",
    "    'Debre Berhan': {'Addis Ababa', 'Debre Sina'},\n",
    "    'Matahara': {'Adama', 'Awash'},\n",
    "    'Asella': {'Adama', 'Assasa'},\n",
    "    'Batu': {'Adama', 'Buta Jirra', 'Shashamene'},\n",
    "    'Wolkite': {'Ambo', 'Worabe', 'Jimma'},\n",
    "    'Nekemte': {'Ambo', 'Bedelle', 'Gimbi'},\n",
    "    'Debre Sina': {'Debre Berhan', 'Kemise', 'Debre Markos'},\n",
    "    'Awash': {'Chiro', 'Gobi Rasu', 'Matahara'},\n",
    "    'Assasa': {'Asella', 'Dodolla'},\n",
    "    'Buta Jirra': {'Batu', 'Worabe'},\n",
    "    'Shashamene': {'Batu', 'Hawassa', 'Dodolla', 'Hossana'},\n",
    "    'Worabe': {'Wolkite', 'Hossana', 'Buta Jirra'},\n",
    "    'Jimma': {'Wolkite', 'Bonga', 'Bedelle'},\n",
    "    'Bedelle': {'Nekemte', 'Gore', 'Jimma'},\n",
    "    'Gimbi': {'Nekemte', 'Dambidollo'},\n",
    "    'Kemise': {'Debre Sina', 'Dessie'},\n",
    "    'Debre Markos': {'Debre Sina', 'Finote Selam'},\n",
    "    'Chiro': {'Awash', 'Dire Dawa'},\n",
    "    'Gobi Rasu': {'Awash', 'Samara'},\n",
    "    'Dodolla': {'Assasa', 'Shashamene', 'Bale'},\n",
    "    'Hawassa': {'Shashamene', 'Dilla'},\n",
    "    'Hossana': {'Shashamene', 'Worabe', 'Wolaita Sodo'},\n",
    "    'Bonga': {'Jimma', 'Dawro', 'Tepi', 'Mizan Teferi'},\n",
    "    'Gore': {'Tepi', 'Gambella', 'Bedelle'},\n",
    "    'Dambidollo': {'Gimbi', 'Assosa', 'Gambella'},\n",
    "    'Dessie': {'Kemise', 'Woldia'},\n",
    "    'Finote Selam': {'Debre Markos', 'Bahirdar', 'Injibara'},\n",
    "    'Dire Dawa': {'Chiro', 'Harar'},\n",
    "    'Samara': {'Gobi Rasu', 'Fanti Rasu', 'Alamata', 'Woldia'},\n",
    "    'Bale': {'Liben', 'Dodolla', 'Goba', 'Sof Oumer'},\n",
    "    'Dilla': {'Hawassa', 'Bulehora'},\n",
    "    'Wolaita Sodo': {'Arba Minchi', 'Dawro', 'Hossana'},\n",
    "    'Dawro': {'Bonga', 'Basketo', 'Wolaita Sodo'},\n",
    "    'Tepi': {'Gore', 'Bonga', 'Mizan Teferi'},\n",
    "    'Mizan Teferi': {'Tepi', 'Bonga', 'Basketo'},\n",
    "    'Gambella': {'Gore', 'Dambidollo'},\n",
    "    'Assosa': {'Dambidollo', 'Metekel'},\n",
    "    'Woldia': {'Dessie', 'Lalibella', 'Samara', 'Alamata'},\n",
    "    'Bahirdar': {'Finote Selam', 'Injibara', 'Metekel', 'Azezo', 'Debre Tabor'},\n",
    "    'Injibara': {'Bahirdar', 'Finote Selam'},\n",
    "    'Harar': {'Dire Dawa', 'Babile'},\n",
    "    'Fanti Rasu': {'Samara', 'Kilbet Rasu'},\n",
    "    'Alamata': {'Samara', 'Woldia', 'Mekelle', 'Sekota'},\n",
    "    'Liben': {'Bale'},\n",
    "    'Goba': {'Bale', 'Sof Oumer', 'Dega Habur'},\n",
    "    'Sof Oumer': {'Goba', 'Bale', 'Kebri Dehar'},\n",
    "    'Bulehora': {'Dilla', 'Yabello'},\n",
    "    'Arba Minchi': {'Wolaita Sodo', 'Konso', 'Basketo'},\n",
    "    'Basketo': {'Arba Minchi', 'Dawro', 'Mizan Teferi', 'Benchi Maji'},\n",
    "    'Metekel': {'Assosa', 'Bahirdar'},\n",
    "    'Lalibella': {'Woldia', 'Kombolcha'},\n",
    "    'Azezo': {'Bahirdar', 'Debre Tabor'},\n",
    "    'Debre Tabor': {'Bahirdar', 'Azezo'},\n",
    "    'Babile': {'Harar', 'Jijiga'},\n",
    "    'Kilbet Rasu': {'Fanti Rasu'},\n",
    "    'Mekelle': {'Alamata', 'Adigrat', 'Kobo'},\n",
    "    'Sekota': {'Alamata', 'Mekelle'},\n",
    "    'Dega Habur': {'Goba', 'Kebri Dehar'},\n",
    "    'Kebri Dehar': {'Dega Habur', 'Sof Oumer'},\n",
    "    'Yabello': {'Bulehora', 'Dolo Odo'},\n",
    "    'Konso': {'Arba Minchi'},\n",
    "    'Benchi Maji': {'Basketo'},\n",
    "    'Kombolcha': {'Lalibella', 'Desse'},\n",
    "    'Jijiga': {'Babile'},\n",
    "    'Adigrat': {'Mekelle'},\n",
    "    'Kobo': {'Mekelle'},\n",
    "    'Dolo Odo': {'Yabello'}\n",
    "}, directed=True)\n",
    "\n",
    "def breadth_first_search(problem):\n",
    "    node = Node(problem.initial)\n",
    "    if problem.goal_test(node.state):\n",
    "        return node\n",
    "    frontier = deque()\n",
    "    frontier.append(node)\n",
    "    explored = set()\n",
    "    while frontier:\n",
    "        node = frontier.popleft()\n",
    "        explored.add(node.state)\n",
    "        for child in node.expand(problem):\n",
    "            if child.state not in explored and child not in frontier:\n",
    "                if problem.goal_test(child.state):\n",
    "                    return child\n",
    "                frontier.append(child)\n",
    "    return None\n",
    "\n",
    "if __name__ == '__main__':\n",
    "    problem = GraphProblem('Addis Ababa', 'Mizan Teferi', visit_ethiopia)\n",
    "    solution = breadth_first_search(problem)\n",
    "    if solution:\n",
    "        path = solution.solution()\n",
    "        print(' -> '.join(path))\n",
    "    else:\n",
    "        print(\"No solution found.\")"
   ]
  },
  {
   "cell_type": "markdown",
   "metadata": {},
   "source": [
    "1.2 breadth-first search and depth-first search strategies for traveling in Ethiopia search problem"
   ]
  },
  {
   "cell_type": "code",
   "execution_count": 2,
   "metadata": {},
   "outputs": [],
   "source": [
    "def breadth_first_search(problem): \n",
    "    node = Node(problem.initial)\n",
    "    if problem.goal_test(node.state):\n",
    "        return node\n",
    "    frontier = deque([node])\n",
    "    explored = set()\n",
    "    while frontier:\n",
    "        node = frontier.popleft()\n",
    "        explored.add(node.state)\n",
    "        for child in node.expand(problem):\n",
    "            if child.state not in explored and child not in frontier:\n",
    "                if problem.goal_test(child.state):\n",
    "                    return child\n",
    "                frontier.append(child)\n",
    "    return None"
   ]
  },
  {
   "cell_type": "code",
   "execution_count": 3,
   "metadata": {},
   "outputs": [
    {
     "name": "stdout",
     "output_type": "stream",
     "text": [
      "Nodes in graph are: ['Addis Ababa', 'Adama', 'Ambo', 'Debre Berhan', 'Matahara', 'Asella', 'Batu', 'Wolkite', 'Nekemte', 'Debre Sina', 'Awash', 'Assasa', 'Buta Jirra', 'Shashamene', 'Worabe', 'Jimma', 'Bedelle', 'Gimbi', 'Kemise', 'Debre Markos', 'Chiro', 'Gobi Rasu', 'Dodolla', 'Hawassa', 'Hossana', 'Bonga', 'Gore', 'Dambidollo', 'Dessie', 'Finote Selam', 'Dire Dawa', 'Samara', 'Bale', 'Dilla', 'Wolaita Sodo', 'Dawro', 'Tepi', 'Mizan Teferi', 'Gambella', 'Assosa', 'Woldia', 'Bahirdar', 'Injibara', 'Harar', 'Fanti Rasu', 'Alamata', 'Liben', 'Goba', 'Sof Oumer', 'Bulehora', 'Arba Minchi', 'Basketo', 'Metekel', 'Lalibella', 'Azezo', 'Debre Tabor', 'Babile', 'Kilbet Rasu', 'Mekelle', 'Sekota', 'Dega Habur', 'Kebri Dehar', 'Yabello', 'Konso', 'Benchi Maji', 'Kombolcha', 'Jijiga', 'Adigrat', 'Kobo', 'Dolo Odo']\n",
      "The connections from the goal are: None\n",
      "Breadth First Search from Addis Ababa to Shire\n"
     ]
    },
    {
     "ename": "TypeError",
     "evalue": "'NoneType' object is not iterable",
     "output_type": "error",
     "traceback": [
      "\u001b[1;31m---------------------------------------------------------------------------\u001b[0m",
      "\u001b[1;31mTypeError\u001b[0m                                 Traceback (most recent call last)",
      "Cell \u001b[1;32mIn[3], line 5\u001b[0m\n\u001b[0;32m      3\u001b[0m visit_ethiopia_problem \u001b[38;5;241m=\u001b[39m GraphProblem(\u001b[38;5;124m'\u001b[39m\u001b[38;5;124mAddis Ababa\u001b[39m\u001b[38;5;124m'\u001b[39m, \u001b[38;5;124m'\u001b[39m\u001b[38;5;124mShire\u001b[39m\u001b[38;5;124m'\u001b[39m, visit_ethiopia)\n\u001b[0;32m      4\u001b[0m \u001b[38;5;28mprint\u001b[39m(\u001b[38;5;124m\"\u001b[39m\u001b[38;5;124mBreadth First Search from Addis Ababa to Shire\u001b[39m\u001b[38;5;124m\"\u001b[39m)\n\u001b[1;32m----> 5\u001b[0m final_node \u001b[38;5;241m=\u001b[39m \u001b[43mbreadth_first_search\u001b[49m\u001b[43m(\u001b[49m\u001b[43mvisit_ethiopia_problem\u001b[49m\u001b[43m)\u001b[49m\n\u001b[0;32m      6\u001b[0m \u001b[38;5;28;01mif\u001b[39;00m final_node \u001b[38;5;129;01mis\u001b[39;00m \u001b[38;5;129;01mnot\u001b[39;00m \u001b[38;5;28;01mNone\u001b[39;00m:\n\u001b[0;32m      7\u001b[0m     \u001b[38;5;28mprint\u001b[39m(\u001b[38;5;124m\"\u001b[39m\u001b[38;5;124mSolution from\u001b[39m\u001b[38;5;124m\"\u001b[39m, visit_ethiopia_problem\u001b[38;5;241m.\u001b[39minitial, \u001b[38;5;124m\"\u001b[39m\u001b[38;5;124mto\u001b[39m\u001b[38;5;124m\"\u001b[39m, visit_ethiopia_problem\u001b[38;5;241m.\u001b[39mgoal, \u001b[38;5;124m\"\u001b[39m\u001b[38;5;124m:\u001b[39m\u001b[38;5;124m\"\u001b[39m, final_node\u001b[38;5;241m.\u001b[39msolution())\n",
      "Cell \u001b[1;32mIn[2], line 10\u001b[0m, in \u001b[0;36mbreadth_first_search\u001b[1;34m(problem)\u001b[0m\n\u001b[0;32m      8\u001b[0m node \u001b[38;5;241m=\u001b[39m frontier\u001b[38;5;241m.\u001b[39mpopleft()\n\u001b[0;32m      9\u001b[0m explored\u001b[38;5;241m.\u001b[39madd(node\u001b[38;5;241m.\u001b[39mstate)\n\u001b[1;32m---> 10\u001b[0m \u001b[38;5;28;01mfor\u001b[39;00m child \u001b[38;5;129;01min\u001b[39;00m \u001b[43mnode\u001b[49m\u001b[38;5;241;43m.\u001b[39;49m\u001b[43mexpand\u001b[49m\u001b[43m(\u001b[49m\u001b[43mproblem\u001b[49m\u001b[43m)\u001b[49m:\n\u001b[0;32m     11\u001b[0m     \u001b[38;5;28;01mif\u001b[39;00m child\u001b[38;5;241m.\u001b[39mstate \u001b[38;5;129;01mnot\u001b[39;00m \u001b[38;5;129;01min\u001b[39;00m explored \u001b[38;5;129;01mand\u001b[39;00m child \u001b[38;5;129;01mnot\u001b[39;00m \u001b[38;5;129;01min\u001b[39;00m frontier:\n\u001b[0;32m     12\u001b[0m         \u001b[38;5;28;01mif\u001b[39;00m problem\u001b[38;5;241m.\u001b[39mgoal_test(child\u001b[38;5;241m.\u001b[39mstate):\n",
      "Cell \u001b[1;32mIn[1], line 60\u001b[0m, in \u001b[0;36mNode.expand\u001b[1;34m(self, problem)\u001b[0m\n\u001b[0;32m     58\u001b[0m \u001b[38;5;28;01mdef\u001b[39;00m \u001b[38;5;21mexpand\u001b[39m(\u001b[38;5;28mself\u001b[39m, problem):\n\u001b[0;32m     59\u001b[0m     children \u001b[38;5;241m=\u001b[39m []\n\u001b[1;32m---> 60\u001b[0m     \u001b[38;5;28;01mfor\u001b[39;00m action \u001b[38;5;129;01min\u001b[39;00m problem\u001b[38;5;241m.\u001b[39mactions(\u001b[38;5;28mself\u001b[39m\u001b[38;5;241m.\u001b[39mstate):\n\u001b[0;32m     61\u001b[0m         x \u001b[38;5;241m=\u001b[39m \u001b[38;5;28mself\u001b[39m\u001b[38;5;241m.\u001b[39mchild_node(problem, action)\n\u001b[0;32m     62\u001b[0m         children\u001b[38;5;241m.\u001b[39mappend(x)\n",
      "\u001b[1;31mTypeError\u001b[0m: 'NoneType' object is not iterable"
     ]
    }
   ],
   "source": [
    "print(\"Nodes in graph are:\", visit_ethiopia.nodes())\n",
    "print(\"The connections from the goal are:\", visit_ethiopia.get('Shire'))\n",
    "visit_ethiopia_problem = GraphProblem('Addis Ababa', 'Shire', visit_ethiopia)\n",
    "print(\"Breadth First Search from Addis Ababa to Shire\")\n",
    "final_node = breadth_first_search(visit_ethiopia_problem)\n",
    "if final_node is not None:\n",
    "    print(\"Solution from\", visit_ethiopia_problem.initial, \"to\", visit_ethiopia_problem.goal, \":\", final_node.solution())\n",
    "else:\n",
    "    print(\"Path does not exist.\")"
   ]
  },
  {
   "cell_type": "code",
   "execution_count": 4,
   "metadata": {},
   "outputs": [],
   "source": [
    "#depth first search strategies\n",
    "def depth_first_search(problem):\n",
    "   \n",
    "    frontier = [(Node(problem.initial))]\n",
    "\n",
    "    explored = set()\n",
    "    while frontier:\n",
    "        node = frontier.pop()\n",
    "        if problem.goal_test(node.state):\n",
    "            return node\n",
    "        explored.add(node.state)\n",
    "        frontier.extend(child for child in node.expand(problem)\n",
    "                        if child.state not in explored and child not in frontier)\n",
    "    return None"
   ]
  },
  {
   "cell_type": "code",
   "execution_count": 5,
   "metadata": {},
   "outputs": [
    {
     "name": "stdout",
     "output_type": "stream",
     "text": [
      "Nodes in graphs are : ['Addis Ababa', 'Adama', 'Ambo', 'Debre Berhan', 'Matahara', 'Asella', 'Batu', 'Wolkite', 'Nekemte', 'Debre Sina', 'Awash', 'Assasa', 'Buta Jirra', 'Shashamene', 'Worabe', 'Jimma', 'Bedelle', 'Gimbi', 'Kemise', 'Debre Markos', 'Chiro', 'Gobi Rasu', 'Dodolla', 'Hawassa', 'Hossana', 'Bonga', 'Gore', 'Dambidollo', 'Dessie', 'Finote Selam', 'Dire Dawa', 'Samara', 'Bale', 'Dilla', 'Wolaita Sodo', 'Dawro', 'Tepi', 'Mizan Teferi', 'Gambella', 'Assosa', 'Woldia', 'Bahirdar', 'Injibara', 'Harar', 'Fanti Rasu', 'Alamata', 'Liben', 'Goba', 'Sof Oumer', 'Bulehora', 'Arba Minchi', 'Basketo', 'Metekel', 'Lalibella', 'Azezo', 'Debre Tabor', 'Babile', 'Kilbet Rasu', 'Mekelle', 'Sekota', 'Dega Habur', 'Kebri Dehar', 'Yabello', 'Konso', 'Benchi Maji', 'Kombolcha', 'Jijiga', 'Adigrat', 'Kobo', 'Dolo Odo']\n",
      "The connections from Gode are : None\n",
      "Depth First Search from Addis Ababa to Gode\n"
     ]
    },
    {
     "ename": "TypeError",
     "evalue": "'NoneType' object is not iterable",
     "output_type": "error",
     "traceback": [
      "\u001b[1;31m---------------------------------------------------------------------------\u001b[0m",
      "\u001b[1;31mTypeError\u001b[0m                                 Traceback (most recent call last)",
      "Cell \u001b[1;32mIn[5], line 7\u001b[0m\n\u001b[0;32m      4\u001b[0m visit_ethiopia_problem \u001b[38;5;241m=\u001b[39m GraphProblem(\u001b[38;5;124m'\u001b[39m\u001b[38;5;124mAddis Ababa\u001b[39m\u001b[38;5;124m'\u001b[39m,\u001b[38;5;124m'\u001b[39m\u001b[38;5;124mGode\u001b[39m\u001b[38;5;124m'\u001b[39m, visit_ethiopia)\n\u001b[0;32m      6\u001b[0m \u001b[38;5;28mprint\u001b[39m(\u001b[38;5;124m\"\u001b[39m\u001b[38;5;124mDepth First Search from Addis Ababa to Gode\u001b[39m\u001b[38;5;124m\"\u001b[39m)\n\u001b[1;32m----> 7\u001b[0m finalnode \u001b[38;5;241m=\u001b[39m \u001b[43mdepth_first_search\u001b[49m\u001b[43m(\u001b[49m\u001b[43mvisit_ethiopia_problem\u001b[49m\u001b[43m)\u001b[49m\n\u001b[0;32m      8\u001b[0m \u001b[38;5;28;01mif\u001b[39;00m (finalnode \u001b[38;5;129;01mis\u001b[39;00m \u001b[38;5;129;01mnot\u001b[39;00m \u001b[38;5;28;01mNone\u001b[39;00m ) : \n\u001b[0;32m      9\u001b[0m     \u001b[38;5;28mprint\u001b[39m(\u001b[38;5;124m\"\u001b[39m\u001b[38;5;124msolution of \u001b[39m\u001b[38;5;124m\"\u001b[39m, visit_ethiopia_problem\u001b[38;5;241m.\u001b[39minitial, \u001b[38;5;124m\"\u001b[39m\u001b[38;5;124m to \u001b[39m\u001b[38;5;124m\"\u001b[39m, visit_ethiopia_problem\u001b[38;5;241m.\u001b[39mgoal, finalnode\u001b[38;5;241m.\u001b[39msolution())\n",
      "Cell \u001b[1;32mIn[4], line 12\u001b[0m, in \u001b[0;36mdepth_first_search\u001b[1;34m(problem)\u001b[0m\n\u001b[0;32m     10\u001b[0m         \u001b[38;5;28;01mreturn\u001b[39;00m node\n\u001b[0;32m     11\u001b[0m     explored\u001b[38;5;241m.\u001b[39madd(node\u001b[38;5;241m.\u001b[39mstate)\n\u001b[1;32m---> 12\u001b[0m     frontier\u001b[38;5;241m.\u001b[39mextend(child \u001b[38;5;28;01mfor\u001b[39;00m child \u001b[38;5;129;01min\u001b[39;00m \u001b[43mnode\u001b[49m\u001b[38;5;241;43m.\u001b[39;49m\u001b[43mexpand\u001b[49m\u001b[43m(\u001b[49m\u001b[43mproblem\u001b[49m\u001b[43m)\u001b[49m\n\u001b[0;32m     13\u001b[0m                     \u001b[38;5;28;01mif\u001b[39;00m child\u001b[38;5;241m.\u001b[39mstate \u001b[38;5;129;01mnot\u001b[39;00m \u001b[38;5;129;01min\u001b[39;00m explored \u001b[38;5;129;01mand\u001b[39;00m child \u001b[38;5;129;01mnot\u001b[39;00m \u001b[38;5;129;01min\u001b[39;00m frontier)\n\u001b[0;32m     14\u001b[0m \u001b[38;5;28;01mreturn\u001b[39;00m \u001b[38;5;28;01mNone\u001b[39;00m\n",
      "Cell \u001b[1;32mIn[1], line 60\u001b[0m, in \u001b[0;36mNode.expand\u001b[1;34m(self, problem)\u001b[0m\n\u001b[0;32m     58\u001b[0m \u001b[38;5;28;01mdef\u001b[39;00m \u001b[38;5;21mexpand\u001b[39m(\u001b[38;5;28mself\u001b[39m, problem):\n\u001b[0;32m     59\u001b[0m     children \u001b[38;5;241m=\u001b[39m []\n\u001b[1;32m---> 60\u001b[0m     \u001b[38;5;28;01mfor\u001b[39;00m action \u001b[38;5;129;01min\u001b[39;00m problem\u001b[38;5;241m.\u001b[39mactions(\u001b[38;5;28mself\u001b[39m\u001b[38;5;241m.\u001b[39mstate):\n\u001b[0;32m     61\u001b[0m         x \u001b[38;5;241m=\u001b[39m \u001b[38;5;28mself\u001b[39m\u001b[38;5;241m.\u001b[39mchild_node(problem, action)\n\u001b[0;32m     62\u001b[0m         children\u001b[38;5;241m.\u001b[39mappend(x)\n",
      "\u001b[1;31mTypeError\u001b[0m: 'NoneType' object is not iterable"
     ]
    }
   ],
   "source": [
    "#For Example Let we check  depth first search fom Addis Ababa to Gode\n",
    "print(\"Nodes in graphs are :\", visit_ethiopia.nodes())\n",
    "print(\"The connections from Gode are :\", visit_ethiopia.get('Gode'))\n",
    "visit_ethiopia_problem = GraphProblem('Addis Ababa','Gode', visit_ethiopia)\n",
    "\n",
    "print(\"Depth First Search from Addis Ababa to Gode\")\n",
    "finalnode = depth_first_search(visit_ethiopia_problem)\n",
    "if (finalnode is not None ) : \n",
    "    print(\"solution of \", visit_ethiopia_problem.initial, \" to \", visit_ethiopia_problem.goal, finalnode.solution())\n",
    "else:\n",
    "    print(\"path does not exists\")"
   ]
  },
  {
   "cell_type": "markdown",
   "metadata": {},
   "source": [
    "# 2. UCS for Travelling in Ethiopia Problem"
   ]
  },
  {
   "cell_type": "markdown",
   "metadata": {},
   "source": [
    "2.1 Converting state space of travelling in ethiopia into manageable data structure"
   ]
  },
  {
   "cell_type": "code",
   "execution_count": 6,
   "metadata": {},
   "outputs": [],
   "source": [
    "def path(previous, s):\n",
    "    if s is None:\n",
    "        return []\n",
    "    else:\n",
    "        return path(previous, previous[s]) + [s]\n",
    "\n",
    "\n",
    "def pathcost(path, step_costs):\n",
    "    cost = 0\n",
    "    for s in range(len(path) - 1):\n",
    "        cost += step_costs[path[s]][path[s + 1]]\n",
    "    return cost"
   ]
  },
  {
   "cell_type": "code",
   "execution_count": 7,
   "metadata": {},
   "outputs": [],
   "source": [
    "ethiopia_cities = dict( {'Addis Ababa': {'Adama':3, 'Ambo':5, 'Debre Berhan':5},\n",
    "             'Adama': {'Matahara':3, 'Asella':4, 'Batu':4, 'Addis Ababa':3}, \n",
    "             'Ambo': {'Wolkite':6, 'Addis Ababa':9, 'Nekemte':5}, \n",
    "             'Debre Berhan': {'Addis Ababa':5, 'Debre Sina':2}, \n",
    "             'Matahara': {'Adama':3, 'Awash':1}, \n",
    "             'Asella': {'Adama':4, 'Assasa':4}, \n",
    "             'Batu': {'Adama':4, 'Buta Jirra':2, 'Shashamene':3}, \n",
    "             'Wolkite': {'Ambo':6, 'Worabe':5, 'Jimma':8}, \n",
    "             'Nekemte': {'Ambo':9, 'Bedelle':5, 'Gimbi':4}, \n",
    "             'Debre Sina': {'Debre Berhan':2, 'Kemise':6, 'Debre Markos':17}, \n",
    "             'Awash': {'Chiro':4, 'Gobi Rasu':5, 'Matahara':1}, \n",
    "             'Assasa': {'Asella':4, 'Dodolla':1}, \n",
    "             'Buta Jirra': {'Batu':2, 'Worabe':2}, \n",
    "             'Shashamene': {'Batu':3, 'Hawassa':1, 'Dodolla':3, 'Hossana':7}, \n",
    "             'Worabe': {'Wolkite':5, 'Hossana':2, 'Buta Jirra':2}, \n",
    "             'Jimma': {'Wolkite':8, 'Bonga':4, 'Bedelle':7}, \n",
    "            'Bedelle': {'Nekemte':5, 'Gore':6, 'Jimma':7}, \n",
    "             'Gimbi': {'Nekemte':4, 'Dambidollo':6}, \n",
    "             'Kemise': {'Debre Sina':6, 'Dessie':4}, \n",
    "             'Debre Markos': {'Debre Sina':17, 'Finote Selam':3},\n",
    "             'Chiro': {'Awash':4, 'Dire Dawa':8}, \n",
    "             'Gobi Rasu': {'Awash':5, 'Samara':9}, \n",
    "             'Dodolla': {'Assasa':1, 'Shashamene':3, 'Bale':13}, \n",
    "             'Hawassa': {'Shashamene':1, 'Dilla':3}, \n",
    "             'Hossana': {'Shashamene':7, 'Worabe':2, 'Wolaita Sodo':4}, \n",
    "             'Bonga': {'Jimma':4, 'Dawro':10, 'Tepi':8, 'Mizan Teferi':4}, \n",
    "             'Gore': {'Tepi':9, 'Gambella':5, 'Bedelle':6}, \n",
    "             'Dambidollo': {'Gimbi':6, 'Assosa':12, 'Gambella':4}, \n",
    "            'Dessie': {'Kemise':4, 'Woldia':6}, \n",
    "            'Finote Selam': {'Debre Markos':3, 'Bahirdar':6, 'Injibara':2}, \n",
    "             'Dire Dawa': { 'Chiro':8, 'Harar':4}, \n",
    "             'Samara': { 'Gobi Rasu':9, 'Fanti Rasu':7, 'Alamata':11, 'Woldia':8},\n",
    "            'Bale': {'Liben':11, 'Dodolla':13, 'Goba':18, 'Sof Oumer':23}, \n",
    "             'Dilla': {'Hawassa':3, 'Bulehora':4}, \n",
    "             'Wolaita Sodo': {'Arba Minchi':5, 'Dawro':6, 'Hossana':4}, \n",
    "             'Dawro': { 'Bonga':10, 'Wolaita Sodo':10}, \n",
    "             'Tepi': {'Gore':9, 'Bonga':8, 'Mizan Teferi':4}, \n",
    "            'Mizan Teferi': {'Tepi':4, 'Bonga':4}, \n",
    "             'Gambella': {'Gore':5, 'Dambidollo':4}, \n",
    "             'Assosa': {'Dambidollo':12}, \n",
    "            'Woldia': {'Dessie':6, 'Lalibella':7, 'Samara':8, 'Alamata':3},\n",
    "             'Bahirdar': {'Finote Selam':6, 'Injibara':4, 'Metekel':11, 'Azezo':7, 'Debre Tabor':4}, \n",
    "             'Injibara': {'Bahirdar':4, 'Finote Selam':2}, \n",
    "             'Harar': { 'Dire Dawa':4, 'Babile':2}, \n",
    "             'Fanti Rasu': {'Samara':7, 'Kilbet Rasu':6}, \n",
    "             'Alamata': {'Samara':11, 'Woldia':3, 'Mekelle':5, 'Sekota':6}, \n",
    "             'Liben': {'Bale':11}, \n",
    "             'Goba': {'Bale':18, 'Sof Oumer':6, 'Babile':28}, \n",
    "             'Sof Oumer': {'Goba':6, 'Bale':23, 'Gode':23}, \n",
    "            'Bulehora': { 'Dilla':4, 'Yabello':3}, \n",
    "            'Arba Minchi': {'Wolaita Sodo':5, 'Konso':4, 'Basketo':10}, \n",
    "             'Basketo': { 'Arba Minchi':10, 'Benchi Maji':5}, \n",
    "             'Metekel': { 'Bahirdar':11},\n",
    "             'Lalibella': {'Woldia':7, 'Debre Tabor':8, 'Sekota':6},\n",
    "             'Debre Tabor': {'Lalibella':8, 'Bahirdar':4}, \n",
    "             'Azezo': {'Gondar':1, 'Bahirdar':7, 'Metema':7}, \n",
    "             'Babile': { 'Harar':2, 'Jigjiga':3,'Goba':28}, \n",
    "             'Kilbet Rasu': {'Fanti Rasu':6}, \n",
    "             'Mekelle': {'Alamata':5, 'Adwa':7, 'Adigrat':4, 'Sekota':9}, \n",
    "             'Sekota': {'Alamata':6, 'Mekelle':9, 'Lalibella':6}, \n",
    "            'Dega Habur': {'Jigjiga':5, 'Kebri Dehar':6}, \n",
    "            'Kebri Dehar': {'Gode':5, 'Dega Habur':6, 'Werdez':6}, \n",
    "            'Yabello': { 'Bulehora':3, 'Konso':3, 'Moyale':6}, \n",
    "            'Konso': {'Arba Minchi':4, 'Yabello':3}, \n",
    "            'Benchi Maji': { 'Basketo':5}, \n",
    "            'Gondar': { 'Azezo':1, 'Humera':9, 'Metema':7, 'Debarke':4},\n",
    "            'Metema': { 'Azezo':7, 'Gondar':7},  \n",
    "            'Jigjiga': { 'Babile':3, 'Dega Habur':5}, \n",
    "            'Adwa': { 'Mekelle':7, 'Axum':1, 'Adigrat':4},\n",
    "            'Adigrat': { 'Mekelle':4, 'Adwa':4}, \n",
    "            'Gode': { 'Dollo':17, 'Kebri Dehar':5, 'Sof Oumer':23 }, \n",
    "            'Werdez': { 'Kebri Dehar':6}, \n",
    "            'Moyale': { 'Yabello':6}, \n",
    "            'Debarke': { 'Gondar':4, 'Shire':7}, \n",
    "            'Axum': {'Shire':2, 'Adwa':1}, \n",
    "            'Dollo': { 'Gode':17}, \n",
    "            'Shire': { 'Axum':2, 'Humera':8, 'Debarke':7},\n",
    "            'Humera': { 'Shire':8, 'Gondar':9}})"
   ]
  },
  {
   "cell_type": "code",
   "execution_count": 8,
   "metadata": {},
   "outputs": [
    {
     "ename": "NameError",
     "evalue": "name 'uniform_cost' is not defined",
     "output_type": "error",
     "traceback": [
      "\u001b[1;31m---------------------------------------------------------------------------\u001b[0m",
      "\u001b[1;31mNameError\u001b[0m                                 Traceback (most recent call last)",
      "Cell \u001b[1;32mIn[8], line 1\u001b[0m\n\u001b[1;32m----> 1\u001b[0m \u001b[38;5;28mprint\u001b[39m(\u001b[43muniform_cost\u001b[49m(\u001b[38;5;124m\"\u001b[39m\u001b[38;5;124mAddis Ababa\u001b[39m\u001b[38;5;124m\"\u001b[39m, \u001b[38;5;124m\"\u001b[39m\u001b[38;5;124mLalibella\u001b[39m\u001b[38;5;124m\"\u001b[39m, ethiopia_cities , \u001b[38;5;28;01mTrue\u001b[39;00m))\n",
      "\u001b[1;31mNameError\u001b[0m: name 'uniform_cost' is not defined"
     ]
    }
   ],
   "source": [
    "print(uniform_cost(\"Addis Ababa\", \"Lalibella\", ethiopia_cities , True))"
   ]
  },
  {
   "cell_type": "code",
   "execution_count": 9,
   "metadata": {},
   "outputs": [],
   "source": [
    "def calc_UCS(start,goals):\n",
    "    goal_cost = dict()\n",
    "    min_cost = float('inf')\n",
    "    min_cost_city = None\n",
    "    min_cost_path = None\n",
    "    for goal in goals:  \n",
    "#         print(start,goals)\n",
    "        res = uniform_cost(start, goal, ethiopia_cities , True)\n",
    "        path,cost = res\n",
    "        goal_cost[goal] = cost\n",
    "        if cost < min_cost: \n",
    "            min_cost = cost\n",
    "            min_cost_city = goal\n",
    "            min_cost_path = path\n",
    "#     print(goal_cost)\n",
    "    return min_cost_city,min_cost_path, min_cost"
   ]
  },
  {
   "cell_type": "code",
   "execution_count": 10,
   "metadata": {},
   "outputs": [
    {
     "ename": "NameError",
     "evalue": "name 'uniform_cost' is not defined",
     "output_type": "error",
     "traceback": [
      "\u001b[1;31m---------------------------------------------------------------------------\u001b[0m",
      "\u001b[1;31mNameError\u001b[0m                                 Traceback (most recent call last)",
      "Cell \u001b[1;32mIn[10], line 3\u001b[0m\n\u001b[0;32m      1\u001b[0m goals \u001b[38;5;241m=\u001b[39m [\u001b[38;5;124m\"\u001b[39m\u001b[38;5;124mAxum\u001b[39m\u001b[38;5;124m\"\u001b[39m, \u001b[38;5;124m\"\u001b[39m\u001b[38;5;124mGondar\u001b[39m\u001b[38;5;124m\"\u001b[39m, \u001b[38;5;124m\"\u001b[39m\u001b[38;5;124mLalibella\u001b[39m\u001b[38;5;124m\"\u001b[39m, \u001b[38;5;124m\"\u001b[39m\u001b[38;5;124mBabile\u001b[39m\u001b[38;5;124m\"\u001b[39m, \u001b[38;5;124m\"\u001b[39m\u001b[38;5;124mJimma\u001b[39m\u001b[38;5;124m\"\u001b[39m, \u001b[38;5;124m\"\u001b[39m\u001b[38;5;124mBale\u001b[39m\u001b[38;5;124m\"\u001b[39m, \u001b[38;5;124m\"\u001b[39m\u001b[38;5;124mSof Oumer\u001b[39m\u001b[38;5;124m\"\u001b[39m, \u001b[38;5;124m\"\u001b[39m\u001b[38;5;124mArba Minchi\u001b[39m\u001b[38;5;124m\"\u001b[39m]\n\u001b[0;32m      2\u001b[0m start \u001b[38;5;241m=\u001b[39m \u001b[38;5;124m\"\u001b[39m\u001b[38;5;124mAddis Ababa\u001b[39m\u001b[38;5;124m\"\u001b[39m\n\u001b[1;32m----> 3\u001b[0m res \u001b[38;5;241m=\u001b[39m \u001b[43mcalc_UCS\u001b[49m\u001b[43m(\u001b[49m\u001b[43mstart\u001b[49m\u001b[43m,\u001b[49m\u001b[43mgoals\u001b[49m\u001b[43m)\u001b[49m\n\u001b[0;32m      4\u001b[0m res\n",
      "Cell \u001b[1;32mIn[9], line 8\u001b[0m, in \u001b[0;36mcalc_UCS\u001b[1;34m(start, goals)\u001b[0m\n\u001b[0;32m      5\u001b[0m     min_cost_path \u001b[38;5;241m=\u001b[39m \u001b[38;5;28;01mNone\u001b[39;00m\n\u001b[0;32m      6\u001b[0m     \u001b[38;5;28;01mfor\u001b[39;00m goal \u001b[38;5;129;01min\u001b[39;00m goals:  \n\u001b[0;32m      7\u001b[0m \u001b[38;5;66;03m#         print(start,goals)\u001b[39;00m\n\u001b[1;32m----> 8\u001b[0m         res \u001b[38;5;241m=\u001b[39m \u001b[43muniform_cost\u001b[49m(start, goal, ethiopia_cities , \u001b[38;5;28;01mTrue\u001b[39;00m)\n\u001b[0;32m      9\u001b[0m         path,cost \u001b[38;5;241m=\u001b[39m res\n\u001b[0;32m     10\u001b[0m         goal_cost[goal] \u001b[38;5;241m=\u001b[39m cost\n",
      "\u001b[1;31mNameError\u001b[0m: name 'uniform_cost' is not defined"
     ]
    }
   ],
   "source": [
    "goals = [\"Axum\", \"Gondar\", \"Lalibella\", \"Babile\", \"Jimma\", \"Bale\", \"Sof Oumer\", \"Arba Minchi\"]\n",
    "start = \"Addis Ababa\"\n",
    "res = calc_UCS(start,goals)\n",
    "res"
   ]
  },
  {
   "cell_type": "code",
   "execution_count": 11,
   "metadata": {},
   "outputs": [
    {
     "ename": "NameError",
     "evalue": "name 'uniform_cost' is not defined",
     "output_type": "error",
     "traceback": [
      "\u001b[1;31m---------------------------------------------------------------------------\u001b[0m",
      "\u001b[1;31mNameError\u001b[0m                                 Traceback (most recent call last)",
      "Cell \u001b[1;32mIn[11], line 3\u001b[0m\n\u001b[0;32m      1\u001b[0m goals \u001b[38;5;241m=\u001b[39m [\u001b[38;5;124m\"\u001b[39m\u001b[38;5;124mAxum\u001b[39m\u001b[38;5;124m\"\u001b[39m, \u001b[38;5;124m\"\u001b[39m\u001b[38;5;124mGondar\u001b[39m\u001b[38;5;124m\"\u001b[39m, \u001b[38;5;124m\"\u001b[39m\u001b[38;5;124mLalibella\u001b[39m\u001b[38;5;124m\"\u001b[39m, \u001b[38;5;124m\"\u001b[39m\u001b[38;5;124mBabile\u001b[39m\u001b[38;5;124m\"\u001b[39m, \u001b[38;5;124m\"\u001b[39m\u001b[38;5;124mBale\u001b[39m\u001b[38;5;124m\"\u001b[39m, \u001b[38;5;124m\"\u001b[39m\u001b[38;5;124mSof Oumer\u001b[39m\u001b[38;5;124m\"\u001b[39m, \u001b[38;5;124m\"\u001b[39m\u001b[38;5;124mArba Minchi\u001b[39m\u001b[38;5;124m\"\u001b[39m]\n\u001b[0;32m      2\u001b[0m start \u001b[38;5;241m=\u001b[39m \u001b[38;5;124m\"\u001b[39m\u001b[38;5;124mJimma\u001b[39m\u001b[38;5;124m\"\u001b[39m\n\u001b[1;32m----> 3\u001b[0m res \u001b[38;5;241m=\u001b[39m \u001b[43mcalc_UCS\u001b[49m\u001b[43m(\u001b[49m\u001b[43mstart\u001b[49m\u001b[43m,\u001b[49m\u001b[43mgoals\u001b[49m\u001b[43m)\u001b[49m\n\u001b[0;32m      4\u001b[0m res\n",
      "Cell \u001b[1;32mIn[9], line 8\u001b[0m, in \u001b[0;36mcalc_UCS\u001b[1;34m(start, goals)\u001b[0m\n\u001b[0;32m      5\u001b[0m     min_cost_path \u001b[38;5;241m=\u001b[39m \u001b[38;5;28;01mNone\u001b[39;00m\n\u001b[0;32m      6\u001b[0m     \u001b[38;5;28;01mfor\u001b[39;00m goal \u001b[38;5;129;01min\u001b[39;00m goals:  \n\u001b[0;32m      7\u001b[0m \u001b[38;5;66;03m#         print(start,goals)\u001b[39;00m\n\u001b[1;32m----> 8\u001b[0m         res \u001b[38;5;241m=\u001b[39m \u001b[43muniform_cost\u001b[49m(start, goal, ethiopia_cities , \u001b[38;5;28;01mTrue\u001b[39;00m)\n\u001b[0;32m      9\u001b[0m         path,cost \u001b[38;5;241m=\u001b[39m res\n\u001b[0;32m     10\u001b[0m         goal_cost[goal] \u001b[38;5;241m=\u001b[39m cost\n",
      "\u001b[1;31mNameError\u001b[0m: name 'uniform_cost' is not defined"
     ]
    }
   ],
   "source": [
    "goals = [\"Axum\", \"Gondar\", \"Lalibella\", \"Babile\", \"Bale\", \"Sof Oumer\", \"Arba Minchi\"]\n",
    "start = \"Jimma\"\n",
    "res = calc_UCS(start,goals)\n",
    "res"
   ]
  },
  {
   "cell_type": "code",
   "execution_count": 12,
   "metadata": {},
   "outputs": [
    {
     "ename": "NameError",
     "evalue": "name 'uniform_cost' is not defined",
     "output_type": "error",
     "traceback": [
      "\u001b[1;31m---------------------------------------------------------------------------\u001b[0m",
      "\u001b[1;31mNameError\u001b[0m                                 Traceback (most recent call last)",
      "Cell \u001b[1;32mIn[12], line 3\u001b[0m\n\u001b[0;32m      1\u001b[0m goals \u001b[38;5;241m=\u001b[39m [\u001b[38;5;124m\"\u001b[39m\u001b[38;5;124mAxum\u001b[39m\u001b[38;5;124m\"\u001b[39m, \u001b[38;5;124m\"\u001b[39m\u001b[38;5;124mGondar\u001b[39m\u001b[38;5;124m\"\u001b[39m, \u001b[38;5;124m\"\u001b[39m\u001b[38;5;124mLalibella\u001b[39m\u001b[38;5;124m\"\u001b[39m, \u001b[38;5;124m\"\u001b[39m\u001b[38;5;124mBabile\u001b[39m\u001b[38;5;124m\"\u001b[39m, \u001b[38;5;124m\"\u001b[39m\u001b[38;5;124mBale\u001b[39m\u001b[38;5;124m\"\u001b[39m, \u001b[38;5;124m\"\u001b[39m\u001b[38;5;124mSof Oumer\u001b[39m\u001b[38;5;124m\"\u001b[39m]\n\u001b[0;32m      2\u001b[0m start \u001b[38;5;241m=\u001b[39m \u001b[38;5;124m\"\u001b[39m\u001b[38;5;124mArba Minchi\u001b[39m\u001b[38;5;124m\"\u001b[39m\n\u001b[1;32m----> 3\u001b[0m res \u001b[38;5;241m=\u001b[39m \u001b[43mcalc_UCS\u001b[49m\u001b[43m(\u001b[49m\u001b[43mstart\u001b[49m\u001b[43m,\u001b[49m\u001b[43mgoals\u001b[49m\u001b[43m)\u001b[49m\n\u001b[0;32m      4\u001b[0m res\n",
      "Cell \u001b[1;32mIn[9], line 8\u001b[0m, in \u001b[0;36mcalc_UCS\u001b[1;34m(start, goals)\u001b[0m\n\u001b[0;32m      5\u001b[0m     min_cost_path \u001b[38;5;241m=\u001b[39m \u001b[38;5;28;01mNone\u001b[39;00m\n\u001b[0;32m      6\u001b[0m     \u001b[38;5;28;01mfor\u001b[39;00m goal \u001b[38;5;129;01min\u001b[39;00m goals:  \n\u001b[0;32m      7\u001b[0m \u001b[38;5;66;03m#         print(start,goals)\u001b[39;00m\n\u001b[1;32m----> 8\u001b[0m         res \u001b[38;5;241m=\u001b[39m \u001b[43muniform_cost\u001b[49m(start, goal, ethiopia_cities , \u001b[38;5;28;01mTrue\u001b[39;00m)\n\u001b[0;32m      9\u001b[0m         path,cost \u001b[38;5;241m=\u001b[39m res\n\u001b[0;32m     10\u001b[0m         goal_cost[goal] \u001b[38;5;241m=\u001b[39m cost\n",
      "\u001b[1;31mNameError\u001b[0m: name 'uniform_cost' is not defined"
     ]
    }
   ],
   "source": [
    "goals = [\"Axum\", \"Gondar\", \"Lalibella\", \"Babile\", \"Bale\", \"Sof Oumer\"]\n",
    "start = \"Arba Minchi\"\n",
    "res = calc_UCS(start,goals)\n",
    "res"
   ]
  },
  {
   "cell_type": "code",
   "execution_count": 13,
   "metadata": {},
   "outputs": [
    {
     "ename": "NameError",
     "evalue": "name 'uniform_cost' is not defined",
     "output_type": "error",
     "traceback": [
      "\u001b[1;31m---------------------------------------------------------------------------\u001b[0m",
      "\u001b[1;31mNameError\u001b[0m                                 Traceback (most recent call last)",
      "Cell \u001b[1;32mIn[13], line 3\u001b[0m\n\u001b[0;32m      1\u001b[0m goals \u001b[38;5;241m=\u001b[39m [\u001b[38;5;124m\"\u001b[39m\u001b[38;5;124mAxum\u001b[39m\u001b[38;5;124m\"\u001b[39m, \u001b[38;5;124m\"\u001b[39m\u001b[38;5;124mGondar\u001b[39m\u001b[38;5;124m\"\u001b[39m, \u001b[38;5;124m\"\u001b[39m\u001b[38;5;124mLalibella\u001b[39m\u001b[38;5;124m\"\u001b[39m, \u001b[38;5;124m\"\u001b[39m\u001b[38;5;124mBabile\u001b[39m\u001b[38;5;124m\"\u001b[39m, \u001b[38;5;124m\"\u001b[39m\u001b[38;5;124mSof Oumer\u001b[39m\u001b[38;5;124m\"\u001b[39m]\n\u001b[0;32m      2\u001b[0m start \u001b[38;5;241m=\u001b[39m \u001b[38;5;124m\"\u001b[39m\u001b[38;5;124mBale\u001b[39m\u001b[38;5;124m\"\u001b[39m\n\u001b[1;32m----> 3\u001b[0m res \u001b[38;5;241m=\u001b[39m \u001b[43mcalc_UCS\u001b[49m\u001b[43m(\u001b[49m\u001b[43mstart\u001b[49m\u001b[43m,\u001b[49m\u001b[43mgoals\u001b[49m\u001b[43m)\u001b[49m\n\u001b[0;32m      4\u001b[0m res\n",
      "Cell \u001b[1;32mIn[9], line 8\u001b[0m, in \u001b[0;36mcalc_UCS\u001b[1;34m(start, goals)\u001b[0m\n\u001b[0;32m      5\u001b[0m     min_cost_path \u001b[38;5;241m=\u001b[39m \u001b[38;5;28;01mNone\u001b[39;00m\n\u001b[0;32m      6\u001b[0m     \u001b[38;5;28;01mfor\u001b[39;00m goal \u001b[38;5;129;01min\u001b[39;00m goals:  \n\u001b[0;32m      7\u001b[0m \u001b[38;5;66;03m#         print(start,goals)\u001b[39;00m\n\u001b[1;32m----> 8\u001b[0m         res \u001b[38;5;241m=\u001b[39m \u001b[43muniform_cost\u001b[49m(start, goal, ethiopia_cities , \u001b[38;5;28;01mTrue\u001b[39;00m)\n\u001b[0;32m      9\u001b[0m         path,cost \u001b[38;5;241m=\u001b[39m res\n\u001b[0;32m     10\u001b[0m         goal_cost[goal] \u001b[38;5;241m=\u001b[39m cost\n",
      "\u001b[1;31mNameError\u001b[0m: name 'uniform_cost' is not defined"
     ]
    }
   ],
   "source": [
    "goals = [\"Axum\", \"Gondar\", \"Lalibella\", \"Babile\", \"Sof Oumer\"]\n",
    "start = \"Bale\"\n",
    "res = calc_UCS(start,goals)\n",
    "res"
   ]
  },
  {
   "cell_type": "code",
   "execution_count": 14,
   "metadata": {},
   "outputs": [
    {
     "ename": "NameError",
     "evalue": "name 'uniform_cost' is not defined",
     "output_type": "error",
     "traceback": [
      "\u001b[1;31m---------------------------------------------------------------------------\u001b[0m",
      "\u001b[1;31mNameError\u001b[0m                                 Traceback (most recent call last)",
      "Cell \u001b[1;32mIn[14], line 3\u001b[0m\n\u001b[0;32m      1\u001b[0m goals \u001b[38;5;241m=\u001b[39m [\u001b[38;5;124m\"\u001b[39m\u001b[38;5;124mAxum\u001b[39m\u001b[38;5;124m\"\u001b[39m, \u001b[38;5;124m\"\u001b[39m\u001b[38;5;124mGondar\u001b[39m\u001b[38;5;124m\"\u001b[39m, \u001b[38;5;124m\"\u001b[39m\u001b[38;5;124mLalibella\u001b[39m\u001b[38;5;124m\"\u001b[39m, \u001b[38;5;124m\"\u001b[39m\u001b[38;5;124mBabile\u001b[39m\u001b[38;5;124m\"\u001b[39m ]\n\u001b[0;32m      2\u001b[0m start \u001b[38;5;241m=\u001b[39m \u001b[38;5;124m\"\u001b[39m\u001b[38;5;124mSof Oumer\u001b[39m\u001b[38;5;124m\"\u001b[39m\n\u001b[1;32m----> 3\u001b[0m res \u001b[38;5;241m=\u001b[39m \u001b[43mcalc_UCS\u001b[49m\u001b[43m(\u001b[49m\u001b[43mstart\u001b[49m\u001b[43m,\u001b[49m\u001b[43mgoals\u001b[49m\u001b[43m)\u001b[49m\n\u001b[0;32m      4\u001b[0m res\n",
      "Cell \u001b[1;32mIn[9], line 8\u001b[0m, in \u001b[0;36mcalc_UCS\u001b[1;34m(start, goals)\u001b[0m\n\u001b[0;32m      5\u001b[0m     min_cost_path \u001b[38;5;241m=\u001b[39m \u001b[38;5;28;01mNone\u001b[39;00m\n\u001b[0;32m      6\u001b[0m     \u001b[38;5;28;01mfor\u001b[39;00m goal \u001b[38;5;129;01min\u001b[39;00m goals:  \n\u001b[0;32m      7\u001b[0m \u001b[38;5;66;03m#         print(start,goals)\u001b[39;00m\n\u001b[1;32m----> 8\u001b[0m         res \u001b[38;5;241m=\u001b[39m \u001b[43muniform_cost\u001b[49m(start, goal, ethiopia_cities , \u001b[38;5;28;01mTrue\u001b[39;00m)\n\u001b[0;32m      9\u001b[0m         path,cost \u001b[38;5;241m=\u001b[39m res\n\u001b[0;32m     10\u001b[0m         goal_cost[goal] \u001b[38;5;241m=\u001b[39m cost\n",
      "\u001b[1;31mNameError\u001b[0m: name 'uniform_cost' is not defined"
     ]
    }
   ],
   "source": [
    "goals = [\"Axum\", \"Gondar\", \"Lalibella\", \"Babile\" ]\n",
    "start = \"Sof Oumer\"\n",
    "res = calc_UCS(start,goals)\n",
    "res"
   ]
  },
  {
   "cell_type": "code",
   "execution_count": 15,
   "metadata": {},
   "outputs": [
    {
     "ename": "NameError",
     "evalue": "name 'uniform_cost' is not defined",
     "output_type": "error",
     "traceback": [
      "\u001b[1;31m---------------------------------------------------------------------------\u001b[0m",
      "\u001b[1;31mNameError\u001b[0m                                 Traceback (most recent call last)",
      "Cell \u001b[1;32mIn[15], line 3\u001b[0m\n\u001b[0;32m      1\u001b[0m goals \u001b[38;5;241m=\u001b[39m [\u001b[38;5;124m\"\u001b[39m\u001b[38;5;124mAxum\u001b[39m\u001b[38;5;124m\"\u001b[39m, \u001b[38;5;124m\"\u001b[39m\u001b[38;5;124mGondar\u001b[39m\u001b[38;5;124m\"\u001b[39m, \u001b[38;5;124m\"\u001b[39m\u001b[38;5;124mLalibella\u001b[39m\u001b[38;5;124m\"\u001b[39m]\n\u001b[0;32m      2\u001b[0m start \u001b[38;5;241m=\u001b[39m  \u001b[38;5;124m\"\u001b[39m\u001b[38;5;124mBabile\u001b[39m\u001b[38;5;124m\"\u001b[39m \n\u001b[1;32m----> 3\u001b[0m res \u001b[38;5;241m=\u001b[39m \u001b[43mcalc_UCS\u001b[49m\u001b[43m(\u001b[49m\u001b[43mstart\u001b[49m\u001b[43m,\u001b[49m\u001b[43mgoals\u001b[49m\u001b[43m)\u001b[49m\n\u001b[0;32m      4\u001b[0m res\n",
      "Cell \u001b[1;32mIn[9], line 8\u001b[0m, in \u001b[0;36mcalc_UCS\u001b[1;34m(start, goals)\u001b[0m\n\u001b[0;32m      5\u001b[0m     min_cost_path \u001b[38;5;241m=\u001b[39m \u001b[38;5;28;01mNone\u001b[39;00m\n\u001b[0;32m      6\u001b[0m     \u001b[38;5;28;01mfor\u001b[39;00m goal \u001b[38;5;129;01min\u001b[39;00m goals:  \n\u001b[0;32m      7\u001b[0m \u001b[38;5;66;03m#         print(start,goals)\u001b[39;00m\n\u001b[1;32m----> 8\u001b[0m         res \u001b[38;5;241m=\u001b[39m \u001b[43muniform_cost\u001b[49m(start, goal, ethiopia_cities , \u001b[38;5;28;01mTrue\u001b[39;00m)\n\u001b[0;32m      9\u001b[0m         path,cost \u001b[38;5;241m=\u001b[39m res\n\u001b[0;32m     10\u001b[0m         goal_cost[goal] \u001b[38;5;241m=\u001b[39m cost\n",
      "\u001b[1;31mNameError\u001b[0m: name 'uniform_cost' is not defined"
     ]
    }
   ],
   "source": [
    "goals = [\"Axum\", \"Gondar\", \"Lalibella\"]\n",
    "start =  \"Babile\" \n",
    "res = calc_UCS(start,goals)\n",
    "res"
   ]
  },
  {
   "cell_type": "code",
   "execution_count": 16,
   "metadata": {},
   "outputs": [
    {
     "ename": "NameError",
     "evalue": "name 'uniform_cost' is not defined",
     "output_type": "error",
     "traceback": [
      "\u001b[1;31m---------------------------------------------------------------------------\u001b[0m",
      "\u001b[1;31mNameError\u001b[0m                                 Traceback (most recent call last)",
      "Cell \u001b[1;32mIn[16], line 3\u001b[0m\n\u001b[0;32m      1\u001b[0m goals \u001b[38;5;241m=\u001b[39m [\u001b[38;5;124m\"\u001b[39m\u001b[38;5;124mAxum\u001b[39m\u001b[38;5;124m\"\u001b[39m, \u001b[38;5;124m\"\u001b[39m\u001b[38;5;124mGondar\u001b[39m\u001b[38;5;124m\"\u001b[39m]\n\u001b[0;32m      2\u001b[0m start \u001b[38;5;241m=\u001b[39m  \u001b[38;5;124m\"\u001b[39m\u001b[38;5;124mLalibella\u001b[39m\u001b[38;5;124m\"\u001b[39m \n\u001b[1;32m----> 3\u001b[0m res \u001b[38;5;241m=\u001b[39m \u001b[43mcalc_UCS\u001b[49m\u001b[43m(\u001b[49m\u001b[43mstart\u001b[49m\u001b[43m,\u001b[49m\u001b[43mgoals\u001b[49m\u001b[43m)\u001b[49m\n\u001b[0;32m      4\u001b[0m res\n",
      "Cell \u001b[1;32mIn[9], line 8\u001b[0m, in \u001b[0;36mcalc_UCS\u001b[1;34m(start, goals)\u001b[0m\n\u001b[0;32m      5\u001b[0m     min_cost_path \u001b[38;5;241m=\u001b[39m \u001b[38;5;28;01mNone\u001b[39;00m\n\u001b[0;32m      6\u001b[0m     \u001b[38;5;28;01mfor\u001b[39;00m goal \u001b[38;5;129;01min\u001b[39;00m goals:  \n\u001b[0;32m      7\u001b[0m \u001b[38;5;66;03m#         print(start,goals)\u001b[39;00m\n\u001b[1;32m----> 8\u001b[0m         res \u001b[38;5;241m=\u001b[39m \u001b[43muniform_cost\u001b[49m(start, goal, ethiopia_cities , \u001b[38;5;28;01mTrue\u001b[39;00m)\n\u001b[0;32m      9\u001b[0m         path,cost \u001b[38;5;241m=\u001b[39m res\n\u001b[0;32m     10\u001b[0m         goal_cost[goal] \u001b[38;5;241m=\u001b[39m cost\n",
      "\u001b[1;31mNameError\u001b[0m: name 'uniform_cost' is not defined"
     ]
    }
   ],
   "source": [
    "goals = [\"Axum\", \"Gondar\"]\n",
    "start =  \"Lalibella\" \n",
    "res = calc_UCS(start,goals)\n",
    "res"
   ]
  },
  {
   "cell_type": "code",
   "execution_count": 17,
   "metadata": {},
   "outputs": [
    {
     "ename": "NameError",
     "evalue": "name 'uniform_cost' is not defined",
     "output_type": "error",
     "traceback": [
      "\u001b[1;31m---------------------------------------------------------------------------\u001b[0m",
      "\u001b[1;31mNameError\u001b[0m                                 Traceback (most recent call last)",
      "Cell \u001b[1;32mIn[17], line 3\u001b[0m\n\u001b[0;32m      1\u001b[0m goals \u001b[38;5;241m=\u001b[39m [\u001b[38;5;124m\"\u001b[39m\u001b[38;5;124mAxum\u001b[39m\u001b[38;5;124m\"\u001b[39m]\n\u001b[0;32m      2\u001b[0m start \u001b[38;5;241m=\u001b[39m  \u001b[38;5;124m\"\u001b[39m\u001b[38;5;124mGondar\u001b[39m\u001b[38;5;124m\"\u001b[39m \n\u001b[1;32m----> 3\u001b[0m res \u001b[38;5;241m=\u001b[39m \u001b[43mcalc_UCS\u001b[49m\u001b[43m(\u001b[49m\u001b[43mstart\u001b[49m\u001b[43m,\u001b[49m\u001b[43mgoals\u001b[49m\u001b[43m)\u001b[49m\n\u001b[0;32m      4\u001b[0m res\n",
      "Cell \u001b[1;32mIn[9], line 8\u001b[0m, in \u001b[0;36mcalc_UCS\u001b[1;34m(start, goals)\u001b[0m\n\u001b[0;32m      5\u001b[0m     min_cost_path \u001b[38;5;241m=\u001b[39m \u001b[38;5;28;01mNone\u001b[39;00m\n\u001b[0;32m      6\u001b[0m     \u001b[38;5;28;01mfor\u001b[39;00m goal \u001b[38;5;129;01min\u001b[39;00m goals:  \n\u001b[0;32m      7\u001b[0m \u001b[38;5;66;03m#         print(start,goals)\u001b[39;00m\n\u001b[1;32m----> 8\u001b[0m         res \u001b[38;5;241m=\u001b[39m \u001b[43muniform_cost\u001b[49m(start, goal, ethiopia_cities , \u001b[38;5;28;01mTrue\u001b[39;00m)\n\u001b[0;32m      9\u001b[0m         path,cost \u001b[38;5;241m=\u001b[39m res\n\u001b[0;32m     10\u001b[0m         goal_cost[goal] \u001b[38;5;241m=\u001b[39m cost\n",
      "\u001b[1;31mNameError\u001b[0m: name 'uniform_cost' is not defined"
     ]
    }
   ],
   "source": [
    "goals = [\"Axum\"]\n",
    "start =  \"Gondar\" \n",
    "res = calc_UCS(start,goals)\n",
    "res"
   ]
  }
 ],
 "metadata": {
  "kernelspec": {
   "display_name": "Python 3 (ipykernel)",
   "language": "python",
   "name": "python3"
  },
  "language_info": {
   "codemirror_mode": {
    "name": "ipython",
    "version": 3
   },
   "file_extension": ".py",
   "mimetype": "text/x-python",
   "name": "python",
   "nbconvert_exporter": "python",
   "pygments_lexer": "ipython3",
   "version": "3.10.9"
  }
 },
 "nbformat": 4,
 "nbformat_minor": 2
}
